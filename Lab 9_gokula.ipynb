{
  "nbformat": 4,
  "nbformat_minor": 0,
  "metadata": {
    "colab": {
      "provenance": [],
      "authorship_tag": "ABX9TyM+c6iWEeqSeQ9UuWzA74x3",
      "include_colab_link": true
    },
    "kernelspec": {
      "name": "python3",
      "display_name": "Python 3"
    },
    "language_info": {
      "name": "python"
    }
  },
  "cells": [
    {
      "cell_type": "markdown",
      "metadata": {
        "id": "view-in-github",
        "colab_type": "text"
      },
      "source": [
        "<a href=\"https://colab.research.google.com/github/GOKULA-127/ADV-PYTHON/blob/main/Lab%209_gokula.ipynb\" target=\"_parent\"><img src=\"https://colab.research.google.com/assets/colab-badge.svg\" alt=\"Open In Colab\"/></a>"
      ]
    },
    {
      "cell_type": "markdown",
      "source": [
        "LAB 9\n",
        "\n",
        "GOKULA J\n",
        "\n",
        "22MID0127"
      ],
      "metadata": {
        "id": "D7XpQEaGiZEk"
      }
    },
    {
      "cell_type": "code",
      "execution_count": 1,
      "metadata": {
        "id": "tDzDk4g2hzZT"
      },
      "outputs": [],
      "source": [
        "# create a class (that do nothing)\n",
        "class Emp:\n",
        "    pass"
      ]
    },
    {
      "cell_type": "code",
      "source": [
        "e1 = Emp() # create a object of a class"
      ],
      "metadata": {
        "id": "xKK7JqufijDx"
      },
      "execution_count": 2,
      "outputs": []
    },
    {
      "cell_type": "code",
      "source": [
        "print(e1)"
      ],
      "metadata": {
        "colab": {
          "base_uri": "https://localhost:8080/",
          "height": 0
        },
        "id": "x0_yYlJYilML",
        "outputId": "c7b8342e-8076-4733-e3c6-c4edea3a6207"
      },
      "execution_count": 3,
      "outputs": [
        {
          "output_type": "stream",
          "name": "stdout",
          "text": [
            "<__main__.Emp object at 0x790046395450>\n"
          ]
        }
      ]
    },
    {
      "cell_type": "code",
      "source": [
        "print(Emp)  # printing the Class type"
      ],
      "metadata": {
        "colab": {
          "base_uri": "https://localhost:8080/",
          "height": 0
        },
        "id": "K3gqdqsEi0GV",
        "outputId": "895a97bb-3caa-484c-c659-4317713f6a19"
      },
      "execution_count": 4,
      "outputs": [
        {
          "output_type": "stream",
          "name": "stdout",
          "text": [
            "<class '__main__.Emp'>\n"
          ]
        }
      ]
    },
    {
      "cell_type": "code",
      "source": [
        "# Assingning attributes to the class\n",
        "e1.first_name = \"Gokula\"\n",
        "e1.last_name = \"J\""
      ],
      "metadata": {
        "id": "zN63vChpi2Ws"
      },
      "execution_count": 5,
      "outputs": []
    },
    {
      "cell_type": "code",
      "source": [
        "print(e1.first_name)\n",
        "print(e1.last_name)"
      ],
      "metadata": {
        "colab": {
          "base_uri": "https://localhost:8080/",
          "height": 0
        },
        "id": "n53JNY2Ni-sk",
        "outputId": "c189a57f-818e-4b53-a674-8a23e5e60818"
      },
      "execution_count": 6,
      "outputs": [
        {
          "output_type": "stream",
          "name": "stdout",
          "text": [
            "Gokula\n",
            "J\n"
          ]
        }
      ]
    },
    {
      "cell_type": "code",
      "source": [
        "# create a class (that contains attributes and methods)\n",
        "class Employee:\n",
        "    def __init__(self, first_name, last_name):          # first_name, last_name and email are calles as instance variables (attributes)\n",
        "        self.first_name = first_name\n",
        "        self.last_name = last_name\n",
        "        self.email = f\"{self.first_name}1@gmail.com\"\n",
        "    def fullname(self):\n",
        "        return f\"{self.first_name} {self.last_name}\"     # printing the full name of the employee"
      ],
      "metadata": {
        "id": "t1LLfuOXi_c9"
      },
      "execution_count": 7,
      "outputs": []
    },
    {
      "cell_type": "code",
      "source": [
        "emp1 = Employee(\"Gokula\",\"jagan\") # create a object of a class"
      ],
      "metadata": {
        "id": "gPIPoEE3jC_b"
      },
      "execution_count": 11,
      "outputs": []
    },
    {
      "cell_type": "code",
      "source": [
        "print(emp1.first_name)\n",
        "print(emp1.last_name)"
      ],
      "metadata": {
        "colab": {
          "base_uri": "https://localhost:8080/",
          "height": 0
        },
        "id": "RlEB9H23jGZu",
        "outputId": "f5b0cb5f-ef9b-42d9-fb47-691d3626780b"
      },
      "execution_count": 12,
      "outputs": [
        {
          "output_type": "stream",
          "name": "stdout",
          "text": [
            "Gokula\n",
            "jagan\n"
          ]
        }
      ]
    },
    {
      "cell_type": "code",
      "source": [
        "print(emp1.email) # email is an attribute that is generated internally within the __init__ method using other attributes."
      ],
      "metadata": {
        "colab": {
          "base_uri": "https://localhost:8080/",
          "height": 0
        },
        "id": "9OzxotQAjeZr",
        "outputId": "fe6e37b0-1e22-4d0c-9217-45fb7b4935b6"
      },
      "execution_count": 13,
      "outputs": [
        {
          "output_type": "stream",
          "name": "stdout",
          "text": [
            "Gokula1@gmail.com\n"
          ]
        }
      ]
    },
    {
      "cell_type": "code",
      "source": [
        "print(emp1.fullname()) # accessing the method (member function) of a class"
      ],
      "metadata": {
        "colab": {
          "base_uri": "https://localhost:8080/",
          "height": 0
        },
        "id": "bHpOw3Kkjio7",
        "outputId": "8bcce8d0-c6d2-49d0-902c-da4d3e4df8e5"
      },
      "execution_count": 14,
      "outputs": [
        {
          "output_type": "stream",
          "name": "stdout",
          "text": [
            "Gokula jagan\n"
          ]
        }
      ]
    },
    {
      "cell_type": "code",
      "source": [
        "print(emp1.fullname)  # printing a representation of the method object itself."
      ],
      "metadata": {
        "colab": {
          "base_uri": "https://localhost:8080/",
          "height": 0
        },
        "id": "I04afVCZjl5G",
        "outputId": "0f2e5a7a-5d84-46eb-c5f2-e0f3aee85a61"
      },
      "execution_count": 15,
      "outputs": [
        {
          "output_type": "stream",
          "name": "stdout",
          "text": [
            "<bound method Employee.fullname of <__main__.Employee object at 0x790045570850>>\n"
          ]
        }
      ]
    },
    {
      "cell_type": "code",
      "source": [
        "class Employee:\n",
        "    # Class variable to track the total number of employees\n",
        "    num_of_employees = 0\n",
        "\n",
        "    def __init__(self, first_name, last_name, pay):\n",
        "        self.first_name = first_name\n",
        "        self.last_name = last_name\n",
        "        self.pay = pay\n",
        "        self.email = f\"{first_name}.{last_name}@company.com\"\n",
        "\n",
        "        # Increment the employee count every time a new employee is created\n",
        "        Employee.num_of_employees += 1\n",
        "\n",
        "    def fullname(self):\n",
        "        return f\"{self.first_name} {self.last_name}\""
      ],
      "metadata": {
        "id": "weKYjBg-jpAK"
      },
      "execution_count": 16,
      "outputs": []
    },
    {
      "cell_type": "code",
      "source": [
        "# object creation and accessing the members and member functions of the class\n",
        "print(f\"Initial employee count: {Employee.num_of_employees}\")  # Accessing the class variable\n",
        "\n",
        "emp_1 = Employee('Elon', 'Musk', 50000)\n",
        "emp_2 = Employee('Donald', 'Trump', 60000)"
      ],
      "metadata": {
        "colab": {
          "base_uri": "https://localhost:8080/",
          "height": 0
        },
        "id": "l4pyyfZIjrhn",
        "outputId": "8dcca667-d600-4459-bc95-c6d0c2b4bf56"
      },
      "execution_count": 17,
      "outputs": [
        {
          "output_type": "stream",
          "name": "stdout",
          "text": [
            "Initial employee count: 0\n"
          ]
        }
      ]
    },
    {
      "cell_type": "code",
      "source": [
        "# Accessing the class variable\n",
        "print(f\"Current employee count: {Employee.num_of_employees}\")"
      ],
      "metadata": {
        "colab": {
          "base_uri": "https://localhost:8080/",
          "height": 0
        },
        "id": "DqAGVjs8jvgz",
        "outputId": "1f027074-e470-4049-b1c5-9aa6ab61c657"
      },
      "execution_count": 18,
      "outputs": [
        {
          "output_type": "stream",
          "name": "stdout",
          "text": [
            "Current employee count: 2\n"
          ]
        }
      ]
    },
    {
      "cell_type": "code",
      "source": [
        "# printing the name of the employees\n",
        "print(emp_1.fullname())\n",
        "print(emp_2.fullname())"
      ],
      "metadata": {
        "colab": {
          "base_uri": "https://localhost:8080/",
          "height": 0
        },
        "id": "U0Vp4WdAj7Kr",
        "outputId": "14fe10fe-481c-42e0-accf-5796a5812e5c"
      },
      "execution_count": 19,
      "outputs": [
        {
          "output_type": "stream",
          "name": "stdout",
          "text": [
            "Elon Musk\n",
            "Donald Trump\n"
          ]
        }
      ]
    },
    {
      "cell_type": "code",
      "source": [],
      "metadata": {
        "id": "_3U_2YgCj_tA"
      },
      "execution_count": null,
      "outputs": []
    }
  ]
}