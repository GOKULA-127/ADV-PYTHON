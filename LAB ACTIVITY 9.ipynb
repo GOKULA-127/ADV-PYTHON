{
  "nbformat": 4,
  "nbformat_minor": 0,
  "metadata": {
    "colab": {
      "provenance": [],
      "authorship_tag": "ABX9TyNFH7+rNa/AZsMGTO2YaErW",
      "include_colab_link": true
    },
    "kernelspec": {
      "name": "python3",
      "display_name": "Python 3"
    },
    "language_info": {
      "name": "python"
    }
  },
  "cells": [
    {
      "cell_type": "markdown",
      "metadata": {
        "id": "view-in-github",
        "colab_type": "text"
      },
      "source": [
        "<a href=\"https://colab.research.google.com/github/GOKULA-127/ADV-PYTHON/blob/main/LAB%20ACTIVITY%209.ipynb\" target=\"_parent\"><img src=\"https://colab.research.google.com/assets/colab-badge.svg\" alt=\"Open In Colab\"/></a>"
      ]
    },
    {
      "cell_type": "markdown",
      "source": [
        "LAB ACTIVITY 9\n",
        "\n",
        "22MID0127\n",
        "\n",
        "GOKULA J\n",
        "\n",
        "CLASS **VARIABLES**"
      ],
      "metadata": {
        "id": "NgOuymqfI8ju"
      }
    },
    {
      "cell_type": "code",
      "execution_count": 7,
      "metadata": {
        "id": "zd69GVi2I5D7"
      },
      "outputs": [],
      "source": [
        "class Emp1:\n",
        "  no_of_employees = 0\n",
        "  raise_amount = 1.04\n",
        "  def __init__(self, first, last, pay):\n",
        "    self.first = first\n",
        "    self.last = last\n",
        "    self.pay = pay\n",
        "  no_of_employees += 1\n",
        "\n",
        "  def apply_raise(self):\n",
        "    self.pay = int(self.pay * Emp1.raise_amount)"
      ]
    },
    {
      "cell_type": "code",
      "source": [
        "# class variable before creating instances\n",
        "print(Emp1.no_of_employees)\n"
      ],
      "metadata": {
        "colab": {
          "base_uri": "https://localhost:8080/"
        },
        "id": "kd3stBWEJYKA",
        "outputId": "ef7e98bb-d6c8-4838-a858-518437819205"
      },
      "execution_count": 8,
      "outputs": [
        {
          "output_type": "stream",
          "name": "stdout",
          "text": [
            "1\n"
          ]
        }
      ]
    },
    {
      "cell_type": "code",
      "source": [
        "# Creating the Instances\n",
        "e1 = Emp1(\"Gokula\",\"J\",\"500000\")\n",
        "e2 = Emp1(\"sathya\",\"raj\",\"600000\")"
      ],
      "metadata": {
        "id": "ONrPaNkEJqGE"
      },
      "execution_count": 9,
      "outputs": []
    },
    {
      "cell_type": "code",
      "source": [
        "# class variable after creating instances\n",
        "print(Emp1.no_of_employees)\n"
      ],
      "metadata": {
        "colab": {
          "base_uri": "https://localhost:8080/"
        },
        "id": "DDagDe8GJ51H",
        "outputId": "e4693d36-7ce1-4eab-bbf2-22cd014b391d"
      },
      "execution_count": 10,
      "outputs": [
        {
          "output_type": "stream",
          "name": "stdout",
          "text": [
            "1\n"
          ]
        }
      ]
    },
    {
      "cell_type": "code",
      "source": [
        "# namespace for class\n",
        "print(Emp1.__dict__)\n"
      ],
      "metadata": {
        "colab": {
          "base_uri": "https://localhost:8080/"
        },
        "id": "Mlr8_5w_KNVo",
        "outputId": "625bcd7c-2ab1-4b72-dedd-34861203a73e"
      },
      "execution_count": 11,
      "outputs": [
        {
          "output_type": "stream",
          "name": "stdout",
          "text": [
            "{'__module__': '__main__', 'no_of_employees': 1, 'raise_amount': 1.04, '__init__': <function Emp1.__init__ at 0x7ea46749bce0>, 'apply_raise': <function Emp1.apply_raise at 0x7ea467498ae0>, '__dict__': <attribute '__dict__' of 'Emp1' objects>, '__weakref__': <attribute '__weakref__' of 'Emp1' objects>, '__doc__': None}\n"
          ]
        }
      ]
    },
    {
      "cell_type": "code",
      "source": [
        "# namespace of the first instance e1 before it accessing the class variable\n",
        "print(e1.__dict__)\n"
      ],
      "metadata": {
        "colab": {
          "base_uri": "https://localhost:8080/"
        },
        "id": "TzKfOT2AKQeB",
        "outputId": "8ecd72db-2f03-4236-c62c-755eb4e4f879"
      },
      "execution_count": 12,
      "outputs": [
        {
          "output_type": "stream",
          "name": "stdout",
          "text": [
            "{'first': 'Gokula', 'last': 'J', 'pay': '500000'}\n"
          ]
        }
      ]
    },
    {
      "cell_type": "code",
      "source": [
        "# First Instance accessing and changing the class variable\n",
        "e1.raise_amount = 1.05\n"
      ],
      "metadata": {
        "id": "_upRE3DhKUcY"
      },
      "execution_count": 13,
      "outputs": []
    },
    {
      "cell_type": "code",
      "source": [
        "# Namespace of the first instance e1 after it accessing the class variable\n",
        "print(e1.__dict__)"
      ],
      "metadata": {
        "colab": {
          "base_uri": "https://localhost:8080/"
        },
        "id": "eZ5Gd7HLKX2W",
        "outputId": "b890508f-d546-4cdc-ffeb-86e2a3203763"
      },
      "execution_count": 14,
      "outputs": [
        {
          "output_type": "stream",
          "name": "stdout",
          "text": [
            "{'first': 'Gokula', 'last': 'J', 'pay': '500000', 'raise_amount': 1.05}\n"
          ]
        }
      ]
    },
    {
      "cell_type": "code",
      "source": [
        "# Printing the class variable after the first instance changing it\n",
        "print(Emp1.raise_amount)\n"
      ],
      "metadata": {
        "colab": {
          "base_uri": "https://localhost:8080/"
        },
        "id": "rl5ONE12Kbur",
        "outputId": "20108679-caf5-4609-ac07-56752313c838"
      },
      "execution_count": 15,
      "outputs": [
        {
          "output_type": "stream",
          "name": "stdout",
          "text": [
            "1.04\n"
          ]
        }
      ]
    },
    {
      "cell_type": "code",
      "source": [
        "# printing the class variable using first instance\n",
        "print(e1.raise_amount)"
      ],
      "metadata": {
        "colab": {
          "base_uri": "https://localhost:8080/"
        },
        "id": "ip1NMTCdKeVl",
        "outputId": "3d143a77-a298-4aa0-c9b1-5195de45f697"
      },
      "execution_count": 16,
      "outputs": [
        {
          "output_type": "stream",
          "name": "stdout",
          "text": [
            "1.05\n"
          ]
        }
      ]
    },
    {
      "cell_type": "code",
      "source": [
        "# printing the class variable using second instance\n",
        "print(e2.raise_amount)"
      ],
      "metadata": {
        "colab": {
          "base_uri": "https://localhost:8080/"
        },
        "id": "IWH5Xt0rKglz",
        "outputId": "d007ac97-8aad-4628-c620-1ed7f804d74e"
      },
      "execution_count": 17,
      "outputs": [
        {
          "output_type": "stream",
          "name": "stdout",
          "text": [
            "1.04\n"
          ]
        }
      ]
    },
    {
      "cell_type": "code",
      "source": [
        "# Namespace of the second instance e2\n",
        "print(e2.__dict__)"
      ],
      "metadata": {
        "colab": {
          "base_uri": "https://localhost:8080/"
        },
        "id": "F4G44kYwKkEH",
        "outputId": "f276547a-6dc1-42b7-a25d-e1cb2beb72b2"
      },
      "execution_count": 18,
      "outputs": [
        {
          "output_type": "stream",
          "name": "stdout",
          "text": [
            "{'first': 'sathya', 'last': 'raj', 'pay': '600000'}\n"
          ]
        }
      ]
    },
    {
      "cell_type": "markdown",
      "source": [
        "Task 2: Create the class and count the number of instances created"
      ],
      "metadata": {
        "id": "q_48vEP_Kr8d"
      }
    },
    {
      "cell_type": "code",
      "source": [
        "class Employee:\n",
        " # Class variable to track the total number of employees\n",
        "  num_of_employees = 0\n",
        "  def __init__(self, first_name, last_name, pay):\n",
        "    self.first_name = first_name\n",
        "    self.last_name = last_name\n",
        "    self.pay = pay\n",
        "    self.email = f\"{first_name}.{last_name}@company.com\"\n",
        "\n",
        " # Increment the employee count every time a new employee is created\n",
        "\n",
        "    Employee.num_of_employees += 1\n",
        "  def fullname(self):\n",
        "    return f\"{self.first_name} {self.last_name}\"\n"
      ],
      "metadata": {
        "id": "5E6TQRJeKn4D"
      },
      "execution_count": 28,
      "outputs": []
    },
    {
      "cell_type": "code",
      "source": [
        "# object creation and accessing the members and member functions of the class\n",
        "print(f\"Initial employee count: {Employee.num_of_employees}\") # Accessing the class variable\n"
      ],
      "metadata": {
        "colab": {
          "base_uri": "https://localhost:8080/"
        },
        "id": "AdCKKk_6K72m",
        "outputId": "c2aceda1-38ed-4282-9d9c-cdbd7accba27"
      },
      "execution_count": 29,
      "outputs": [
        {
          "output_type": "stream",
          "name": "stdout",
          "text": [
            "Initial employee count: 0\n"
          ]
        }
      ]
    },
    {
      "cell_type": "code",
      "source": [
        "# object creation\n",
        "emp_1 = Employee('Elon', 'Musk', 50000)\n",
        "emp_2 = Employee('Donald', 'Trump', 70000)"
      ],
      "metadata": {
        "id": "xa82ZUZTLHsP"
      },
      "execution_count": 30,
      "outputs": []
    },
    {
      "cell_type": "code",
      "source": [
        "# Accessing the class variable after object creation\n",
        "print(f\"Current employee count: {Employee.num_of_employees}\")\n"
      ],
      "metadata": {
        "colab": {
          "base_uri": "https://localhost:8080/"
        },
        "id": "MplLrI2GLKva",
        "outputId": "f925e35b-ec30-46f3-b5a5-dfd12402f88a"
      },
      "execution_count": 31,
      "outputs": [
        {
          "output_type": "stream",
          "name": "stdout",
          "text": [
            "Current employee count: 2\n"
          ]
        }
      ]
    },
    {
      "cell_type": "markdown",
      "source": [
        "Basic Inheritance"
      ],
      "metadata": {
        "id": "5CjLd9WZLVrm"
      }
    },
    {
      "cell_type": "code",
      "source": [
        "class Parent:                 # Parent class\n",
        "  def greet(self):\n",
        "    print(\"Hello from parent\")\n",
        "class Child(Parent):          # Child class inheriting from the parents\n",
        "  pass\n"
      ],
      "metadata": {
        "id": "sizTlPTkLPfs"
      },
      "execution_count": 32,
      "outputs": []
    },
    {
      "cell_type": "code",
      "source": [
        "obj = Child() # creating the object for the child class\n",
        "obj.greet() # child class accessing the parent class method\n"
      ],
      "metadata": {
        "colab": {
          "base_uri": "https://localhost:8080/"
        },
        "id": "f8q3PcwsLhis",
        "outputId": "f1cea843-7a94-4adc-9110-38d6f1e87db1"
      },
      "execution_count": 33,
      "outputs": [
        {
          "output_type": "stream",
          "name": "stdout",
          "text": [
            "Hello from parent\n"
          ]
        }
      ]
    },
    {
      "cell_type": "markdown",
      "source": [
        "Using super() to call a method from parent class"
      ],
      "metadata": {
        "id": "ipCGvw2bLma3"
      }
    },
    {
      "cell_type": "code",
      "source": [
        "class Parent:               # Parent class\n",
        "  def greet(self):\n",
        "    print(\"Hello from parent\")\n",
        "\n",
        "class Child(Parent):        # Child class inheriting from the parents\n",
        "  def greet(self):\n",
        "    super().greet() # calls Parent's greet\n",
        "    print(\"Hello from Child\")\n"
      ],
      "metadata": {
        "id": "JbEFGw6oLkCm"
      },
      "execution_count": 34,
      "outputs": []
    },
    {
      "cell_type": "code",
      "source": [
        "obj = Child() # creating the object for the child class\n",
        "obj.greet() # child class accessing method\n"
      ],
      "metadata": {
        "colab": {
          "base_uri": "https://localhost:8080/"
        },
        "id": "yfRqFP0iL0sl",
        "outputId": "7a8722a9-c716-41d5-dfc0-afcb1d1baf34"
      },
      "execution_count": 35,
      "outputs": [
        {
          "output_type": "stream",
          "name": "stdout",
          "text": [
            "Hello from parent\n",
            "Hello from Child\n"
          ]
        }
      ]
    },
    {
      "cell_type": "markdown",
      "source": [
        "Task 1: Multiple Inheritance and multiple child classes accessing the class\n",
        "variable\n"
      ],
      "metadata": {
        "id": "V2mNxDExL6DB"
      }
    },
    {
      "cell_type": "code",
      "source": [
        "class Countable:\n",
        "  object_count=0\n",
        "\n",
        "# Class variable to store the count\n",
        "\n",
        "  def __init__(self, *args, **kwargs):\n",
        "    Countable.object_count+=1\n",
        "    super().__init__(*args, **kwargs)\n",
        "\n",
        " # Increment the count when a new object is created"
      ],
      "metadata": {
        "id": "eUamuEdyL3Xl"
      },
      "execution_count": 40,
      "outputs": []
    },
    {
      "cell_type": "code",
      "source": [
        "class Person:\n",
        "  def __init__(self, name):\n",
        "    self.name=name\n",
        "\n"
      ],
      "metadata": {
        "id": "79HGop5CMV_d"
      },
      "execution_count": 45,
      "outputs": []
    },
    {
      "cell_type": "code",
      "source": [
        "class Employee(Countable, Person):           # Multiple inheritance\n",
        "  def __init__(self, name, employee_id):\n",
        "\n",
        " # Call parent constructors using super()\n",
        "    super().__init__(name=name)\n",
        "    self.employee_id = employee_id\n"
      ],
      "metadata": {
        "cellView": "code",
        "id": "8ktVLsoxMjOn"
      },
      "execution_count": 46,
      "outputs": []
    },
    {
      "cell_type": "code",
      "source": [
        "# Accessing the class variable before creating the objects\n",
        "print(f\"Number of Employee objects created: {Employee.object_count}\")\n"
      ],
      "metadata": {
        "colab": {
          "base_uri": "https://localhost:8080/"
        },
        "id": "SE7oGQiUNSRu",
        "outputId": "5d3e110f-bc6f-4324-d76c-30bd1072c443"
      },
      "execution_count": 47,
      "outputs": [
        {
          "output_type": "stream",
          "name": "stdout",
          "text": [
            "Number of Employee objects created: 0\n"
          ]
        }
      ]
    },
    {
      "cell_type": "code",
      "source": [
        "# Creating Employee objects\n",
        "employee1 = Employee(\"Alice\", \"E001\")\n",
        "employee2 = Employee(\"Bob\", \"E002\")\n",
        "employee3 = Employee(\"Charlie\", \"E003\")"
      ],
      "metadata": {
        "id": "DIfSslwgNaUD"
      },
      "execution_count": 48,
      "outputs": []
    },
    {
      "cell_type": "code",
      "source": [
        "# Accessing the class variable to get the count\n",
        "print(f\"Number of Employee objects created: {Employee.object_count}\")"
      ],
      "metadata": {
        "colab": {
          "base_uri": "https://localhost:8080/"
        },
        "id": "J_auE18FNcyP",
        "outputId": "ae6df9ce-5b67-4871-fdbf-6dba5274e231"
      },
      "execution_count": 49,
      "outputs": [
        {
          "output_type": "stream",
          "name": "stdout",
          "text": [
            "Number of Employee objects created: 3\n"
          ]
        }
      ]
    },
    {
      "cell_type": "code",
      "source": [
        "# We can also access it through an instance, but it's recommended to use the class name\n",
        "print(f\"Number of Employee objects created (via instance): {employee1.object_count}\")"
      ],
      "metadata": {
        "colab": {
          "base_uri": "https://localhost:8080/"
        },
        "id": "ncn139svNgSq",
        "outputId": "82438e03-8aa3-4a66-a72a-846585d4732e"
      },
      "execution_count": 50,
      "outputs": [
        {
          "output_type": "stream",
          "name": "stdout",
          "text": [
            "Number of Employee objects created (via instance): 3\n"
          ]
        }
      ]
    },
    {
      "cell_type": "markdown",
      "source": [
        "Task 3: Create the class that is inheriting from the class Emp1"
      ],
      "metadata": {
        "id": "CLXQOc3TNqUT"
      }
    },
    {
      "cell_type": "code",
      "source": [
        "\n",
        "# child class accessing the Emp1 class\n",
        "class Emp2(Emp1):\n",
        " def __init__(self, first, last, pay):\n",
        "  # Call parent constructors using super()\n",
        "  super().__init__(first, last, pay)\n",
        "  def apply_raise(self):\n",
        "    super().apply_raise()\n"
      ],
      "metadata": {
        "id": "uEIeigUGNmzc"
      },
      "execution_count": 52,
      "outputs": []
    },
    {
      "cell_type": "code",
      "source": [
        "e3 = Emp2(\"Gokula\",\"J\",100000) # creating the instance for child class inheriting from Emp1 class"
      ],
      "metadata": {
        "id": "D7KUtAWHOcJ2"
      },
      "execution_count": 56,
      "outputs": []
    },
    {
      "cell_type": "code",
      "source": [
        "e3.apply_raise() # Instance accessing the inherited method"
      ],
      "metadata": {
        "id": "9TtOOekOOmfl"
      },
      "execution_count": 57,
      "outputs": []
    },
    {
      "cell_type": "code",
      "source": [
        "print(e3.pay) # Object accessing the instance variable\n"
      ],
      "metadata": {
        "colab": {
          "base_uri": "https://localhost:8080/"
        },
        "id": "75C3AsUTOooh",
        "outputId": "e9e73553-081e-418b-82ff-9f3e5090797d"
      },
      "execution_count": 58,
      "outputs": [
        {
          "output_type": "stream",
          "name": "stdout",
          "text": [
            "104000\n"
          ]
        }
      ]
    },
    {
      "cell_type": "code",
      "source": [
        "print(e3.raise_amount) # Object accessing the class variable\n"
      ],
      "metadata": {
        "colab": {
          "base_uri": "https://localhost:8080/"
        },
        "id": "d-rkcQZTOqx0",
        "outputId": "c69ec8ad-dc20-470d-e917-60b51daeb117"
      },
      "execution_count": 59,
      "outputs": [
        {
          "output_type": "stream",
          "name": "stdout",
          "text": [
            "1.04\n"
          ]
        }
      ]
    },
    {
      "cell_type": "markdown",
      "source": [
        "Multiple Inheritance"
      ],
      "metadata": {
        "id": "ooOa3yRwPEXu"
      }
    },
    {
      "cell_type": "code",
      "source": [
        "class A:\n",
        "  def method_a(self):\n",
        "    print(\"Method A\")\n",
        "class B:\n",
        "  def method_b(self):\n",
        "    print(\"Method B\")\n",
        "class C(A,B): # Class inheriting from A and B class\n",
        "  pass\n"
      ],
      "metadata": {
        "id": "_MQRQ8IUPBjE"
      },
      "execution_count": 60,
      "outputs": []
    },
    {
      "cell_type": "code",
      "source": [
        "obj = C()\n",
        "obj.method_a() # child class accessing parent class methods\n",
        "obj.method_b()"
      ],
      "metadata": {
        "colab": {
          "base_uri": "https://localhost:8080/"
        },
        "id": "oziLm-ffPOH1",
        "outputId": "f3ab974c-961b-4650-ab6b-f66b26bca291"
      },
      "execution_count": 61,
      "outputs": [
        {
          "output_type": "stream",
          "name": "stdout",
          "text": [
            "Method A\n",
            "Method B\n"
          ]
        }
      ]
    },
    {
      "cell_type": "markdown",
      "source": [
        "Multi Level Inheritance"
      ],
      "metadata": {
        "id": "i_dw_vs4PS1c"
      }
    },
    {
      "cell_type": "code",
      "source": [
        "class A:\n",
        "  def method_a(self):\n",
        "    print(\"Method A\")\n",
        "\n",
        "class B(A): # Class inheriting from A\n",
        "  def method_b(self):\n",
        "    super().method_a()\n",
        "    print(\"Method B\")\n",
        "\n",
        "class C(B): # Class inheriting from B\n",
        "  def method_c(self):\n",
        "    super().method_b()\n",
        "    print(\"Method C\")"
      ],
      "metadata": {
        "id": "OofNTfazPQd7"
      },
      "execution_count": 62,
      "outputs": []
    },
    {
      "cell_type": "code",
      "source": [
        "obj = C()\n",
        "obj.method_c() # object accessing its method\n"
      ],
      "metadata": {
        "colab": {
          "base_uri": "https://localhost:8080/"
        },
        "id": "3aGoe9uyPfu9",
        "outputId": "4215b307-c360-493c-9f0b-23946d09236b"
      },
      "execution_count": 63,
      "outputs": [
        {
          "output_type": "stream",
          "name": "stdout",
          "text": [
            "Method A\n",
            "Method B\n",
            "Method C\n"
          ]
        }
      ]
    },
    {
      "cell_type": "markdown",
      "source": [
        "Understanding that Inheritance is Uni-Directional"
      ],
      "metadata": {
        "id": "evXsScgqPkSY"
      }
    },
    {
      "cell_type": "code",
      "source": [
        "class Contact:\n",
        "  all_contacts = []\n",
        "  def __init__(self, name, email):\n",
        "    self.name = name\n",
        "    self.email = email\n",
        "    Contact.all_contacts.append(self)\n"
      ],
      "metadata": {
        "id": "9Y09u-9cPiIN"
      },
      "execution_count": 65,
      "outputs": []
    },
    {
      "cell_type": "code",
      "source": [
        "class Supplier(Contact):\n",
        "  def order(self,order):\n",
        "    print(\"Send\"\"{} order to {}\".format(self,self.name))\n",
        "\n",
        "c = Contact(\"Gokula\",\"gokula@gmail.com\")\n",
        "s = Supplier(\"Jagan\",\"jagan@gmail.com\")\n",
        "print(c.name,c.email,s.name, s.email)"
      ],
      "metadata": {
        "colab": {
          "base_uri": "https://localhost:8080/"
        },
        "id": "G7C6BVr6Pu-J",
        "outputId": "4c245bdb-c248-4895-c700-d1f62481e0b8"
      },
      "execution_count": 66,
      "outputs": [
        {
          "output_type": "stream",
          "name": "stdout",
          "text": [
            "Gokula gokula@gmail.com Jagan jagan@gmail.com\n"
          ]
        }
      ]
    },
    {
      "cell_type": "code",
      "source": [
        "c.all_contacts"
      ],
      "metadata": {
        "colab": {
          "base_uri": "https://localhost:8080/"
        },
        "id": "9DQpiMemQBTE",
        "outputId": "31c37a1e-6a37-4f1c-e780-0383da506b0e"
      },
      "execution_count": 67,
      "outputs": [
        {
          "output_type": "execute_result",
          "data": {
            "text/plain": [
              "[<__main__.Contact at 0x7ea45eb96b50>, <__main__.Supplier at 0x7ea45eb96750>]"
            ]
          },
          "metadata": {},
          "execution_count": 67
        }
      ]
    },
    {
      "cell_type": "code",
      "source": [
        "c.order(\"I need pliers\") # parent class has no access to child class members and member functions"
      ],
      "metadata": {
        "colab": {
          "base_uri": "https://localhost:8080/",
          "height": 141
        },
        "id": "bZlc70i9QExS",
        "outputId": "b9f5d134-6d5e-4207-c82b-02fdcf178024"
      },
      "execution_count": 68,
      "outputs": [
        {
          "output_type": "error",
          "ename": "AttributeError",
          "evalue": "'Contact' object has no attribute 'order'",
          "traceback": [
            "\u001b[0;31m---------------------------------------------------------------------------\u001b[0m",
            "\u001b[0;31mAttributeError\u001b[0m                            Traceback (most recent call last)",
            "\u001b[0;32m/tmp/ipython-input-3292352024.py\u001b[0m in \u001b[0;36m<cell line: 0>\u001b[0;34m()\u001b[0m\n\u001b[0;32m----> 1\u001b[0;31m \u001b[0mc\u001b[0m\u001b[0;34m.\u001b[0m\u001b[0morder\u001b[0m\u001b[0;34m(\u001b[0m\u001b[0;34m\"I need pliers\"\u001b[0m\u001b[0;34m)\u001b[0m \u001b[0;31m# parent class has no access to child class members and member functions\u001b[0m\u001b[0;34m\u001b[0m\u001b[0;34m\u001b[0m\u001b[0m\n\u001b[0m",
            "\u001b[0;31mAttributeError\u001b[0m: 'Contact' object has no attribute 'order'"
          ]
        }
      ]
    },
    {
      "cell_type": "code",
      "source": [
        "s.order(\"I need pliers\") # fixing the above error\n"
      ],
      "metadata": {
        "colab": {
          "base_uri": "https://localhost:8080/"
        },
        "id": "MSUM0aA1QMbz",
        "outputId": "36f988f1-c999-48be-ace8-55fd6052d170"
      },
      "execution_count": 69,
      "outputs": [
        {
          "output_type": "stream",
          "name": "stdout",
          "text": [
            "Send<__main__.Supplier object at 0x7ea45eb96750> order to Jagan\n"
          ]
        }
      ]
    },
    {
      "cell_type": "markdown",
      "source": [
        "Extending the built-in class"
      ],
      "metadata": {
        "id": "bSkpvSdSQVVX"
      }
    },
    {
      "cell_type": "code",
      "source": [
        "class ContactList(list):\n",
        "  def search(self,name):\n",
        " #Return all contacts that contain the search value in their name\n",
        "    matching_contacts = []\n",
        "    for contact in self:\n",
        "      if name in contact.name:\n",
        "        matching_contacts.append(contact)\n",
        "    return matching_contacts"
      ],
      "metadata": {
        "id": "179X_nzhQQen"
      },
      "execution_count": 82,
      "outputs": []
    },
    {
      "cell_type": "code",
      "source": [
        "class Contact:\n",
        "  all_contacts = ContactList() # shared list of all contacts\n",
        "  def __init__(self, name, email):\n",
        "      self.name = name\n",
        "      self.email = email\n",
        "      Contact.all_contacts.append(self) # Add self to the shared contact list"
      ],
      "metadata": {
        "id": "e0LxAJIlQZG6"
      },
      "execution_count": 83,
      "outputs": []
    },
    {
      "cell_type": "code",
      "source": [
        "c1 = Contact(\"Joseph A\",\"josepha@example.net\")\n",
        "c2 = Contact(\"Joseph B\",\"josephb@example.net\")\n",
        "c3 = Contact(\"Jenna C\",\"jennac@example.net\")\n",
        "[c.name for c in Contact.all_contacts.search('Joseph')]"
      ],
      "metadata": {
        "colab": {
          "base_uri": "https://localhost:8080/"
        },
        "id": "58ZwSuaVQu__",
        "outputId": "8e92cf67-5c5b-4052-953c-b88bd39b9a58"
      },
      "execution_count": 84,
      "outputs": [
        {
          "output_type": "execute_result",
          "data": {
            "text/plain": [
              "['Joseph A', 'Joseph B']"
            ]
          },
          "metadata": {},
          "execution_count": 84
        }
      ]
    },
    {
      "cell_type": "code",
      "source": [],
      "metadata": {
        "id": "5rWqHVg7Q35w"
      },
      "execution_count": null,
      "outputs": []
    }
  ]
}