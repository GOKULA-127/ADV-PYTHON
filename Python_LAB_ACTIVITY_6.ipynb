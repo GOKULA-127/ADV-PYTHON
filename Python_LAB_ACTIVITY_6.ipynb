{
  "nbformat": 4,
  "nbformat_minor": 0,
  "metadata": {
    "colab": {
      "provenance": [],
      "authorship_tag": "ABX9TyMV6kJmWC06TN+JC7aauY7C",
      "include_colab_link": true
    },
    "kernelspec": {
      "name": "python3",
      "display_name": "Python 3"
    },
    "language_info": {
      "name": "python"
    }
  },
  "cells": [
    {
      "cell_type": "markdown",
      "metadata": {
        "id": "view-in-github",
        "colab_type": "text"
      },
      "source": [
        "<a href=\"https://colab.research.google.com/github/GOKULA-127/ADV-PYTHON/blob/main/Python_LAB_ACTIVITY_6.ipynb\" target=\"_parent\"><img src=\"https://colab.research.google.com/assets/colab-badge.svg\" alt=\"Open In Colab\"/></a>"
      ]
    },
    {
      "cell_type": "code",
      "execution_count": 1,
      "metadata": {
        "id": "CtOLX8__g6gV"
      },
      "outputs": [],
      "source": [
        "#Unpacking Sequence\n",
        "ODDS = [1,3,5,7]  # Original list\n",
        "a,b,c,d = ODDS # Unpacking the List"
      ]
    },
    {
      "cell_type": "code",
      "source": [
        "print(a)    # printing the unpacked list elements\n",
        "print(b)\n",
        "print(c)\n",
        "print(d)"
      ],
      "metadata": {
        "colab": {
          "base_uri": "https://localhost:8080/"
        },
        "id": "ilIvGnkehAIX",
        "outputId": "011ceeef-3f62-4852-d779-6bc2bc243674"
      },
      "execution_count": 2,
      "outputs": [
        {
          "output_type": "stream",
          "name": "stdout",
          "text": [
            "1\n",
            "3\n",
            "5\n",
            "7\n"
          ]
        }
      ]
    },
    {
      "cell_type": "code",
      "source": [
        "a,b,*c = ODDS #Unpacking the list (Remaining elements will get stored in the variable c)"
      ],
      "metadata": {
        "id": "WT031E9whCRk"
      },
      "execution_count": 3,
      "outputs": []
    },
    {
      "cell_type": "code",
      "source": [
        "print(a)    # printing the unpacked list elements\n",
        "print(b)\n",
        "print(c)"
      ],
      "metadata": {
        "colab": {
          "base_uri": "https://localhost:8080/"
        },
        "id": "GXyXlA2chFun",
        "outputId": "e39f03de-4159-403e-e669-4017ed994a81"
      },
      "execution_count": 4,
      "outputs": [
        {
          "output_type": "stream",
          "name": "stdout",
          "text": [
            "1\n",
            "3\n",
            "[5, 7]\n"
          ]
        }
      ]
    },
    {
      "cell_type": "code",
      "source": [
        "a,*b,c = ODDS # Unpacking the List"
      ],
      "metadata": {
        "id": "fzX7btkkhIEP"
      },
      "execution_count": 5,
      "outputs": []
    },
    {
      "cell_type": "code",
      "source": [
        "print(a)    # printing the unpacked list elements\n",
        "print(b)\n",
        "print(c)"
      ],
      "metadata": {
        "colab": {
          "base_uri": "https://localhost:8080/"
        },
        "id": "HemJG2KJhKup",
        "outputId": "875b440c-511e-452b-839c-d9f9df16de99"
      },
      "execution_count": 6,
      "outputs": [
        {
          "output_type": "stream",
          "name": "stdout",
          "text": [
            "1\n",
            "[3, 5]\n",
            "7\n"
          ]
        }
      ]
    },
    {
      "cell_type": "code",
      "source": [
        "def a(x,y,z):       # Unpacking the list\n",
        "    return (x+y+z)\n",
        "print(a(*ODDS))     # ERROR: It requires exactly 4 elements to be unpacked"
      ],
      "metadata": {
        "colab": {
          "base_uri": "https://localhost:8080/",
          "height": 183
        },
        "id": "XbRK3jqthM6S",
        "outputId": "824b5c49-4a74-49e3-dfbd-4e1d90820bcd"
      },
      "execution_count": 7,
      "outputs": [
        {
          "output_type": "error",
          "ename": "TypeError",
          "evalue": "a() takes 3 positional arguments but 4 were given",
          "traceback": [
            "\u001b[0;31m---------------------------------------------------------------------------\u001b[0m",
            "\u001b[0;31mTypeError\u001b[0m                                 Traceback (most recent call last)",
            "\u001b[0;32m/tmp/ipython-input-3353483840.py\u001b[0m in \u001b[0;36m<cell line: 0>\u001b[0;34m()\u001b[0m\n\u001b[1;32m      1\u001b[0m \u001b[0;32mdef\u001b[0m \u001b[0ma\u001b[0m\u001b[0;34m(\u001b[0m\u001b[0mx\u001b[0m\u001b[0;34m,\u001b[0m\u001b[0my\u001b[0m\u001b[0;34m,\u001b[0m\u001b[0mz\u001b[0m\u001b[0;34m)\u001b[0m\u001b[0;34m:\u001b[0m       \u001b[0;31m# Unpacking the list\u001b[0m\u001b[0;34m\u001b[0m\u001b[0;34m\u001b[0m\u001b[0m\n\u001b[1;32m      2\u001b[0m     \u001b[0;32mreturn\u001b[0m \u001b[0;34m(\u001b[0m\u001b[0mx\u001b[0m\u001b[0;34m+\u001b[0m\u001b[0my\u001b[0m\u001b[0;34m+\u001b[0m\u001b[0mz\u001b[0m\u001b[0;34m)\u001b[0m\u001b[0;34m\u001b[0m\u001b[0;34m\u001b[0m\u001b[0m\n\u001b[0;32m----> 3\u001b[0;31m \u001b[0mprint\u001b[0m\u001b[0;34m(\u001b[0m\u001b[0ma\u001b[0m\u001b[0;34m(\u001b[0m\u001b[0;34m*\u001b[0m\u001b[0mODDS\u001b[0m\u001b[0;34m)\u001b[0m\u001b[0;34m)\u001b[0m     \u001b[0;31m# ERROR: It requires exactly 4 elements to be unpacked\u001b[0m\u001b[0;34m\u001b[0m\u001b[0;34m\u001b[0m\u001b[0m\n\u001b[0m",
            "\u001b[0;31mTypeError\u001b[0m: a() takes 3 positional arguments but 4 were given"
          ]
        }
      ]
    },
    {
      "cell_type": "code",
      "source": [
        "def a(x,y,z,p):       # Unpacking the list\n",
        "    return (x+y+z+p)\n",
        "print(a(*ODDS))"
      ],
      "metadata": {
        "colab": {
          "base_uri": "https://localhost:8080/"
        },
        "id": "42n4oe-XhQqk",
        "outputId": "ec1c6790-f9b9-438a-853b-7ecd8b48ebb1"
      },
      "execution_count": 8,
      "outputs": [
        {
          "output_type": "stream",
          "name": "stdout",
          "text": [
            "16\n"
          ]
        }
      ]
    },
    {
      "cell_type": "code",
      "source": [
        "def say_hi(*names):    # Unpacking the collection of string\n",
        "    for n in names:\n",
        "        print(f\"Hello, {n}\")\n",
        "say_hi(\"Gokula\",\"Vithun\",\"Hari\",\"Dhevi\")"
      ],
      "metadata": {
        "colab": {
          "base_uri": "https://localhost:8080/"
        },
        "id": "6lArSE-yhS47",
        "outputId": "82713308-7995-4927-8d45-991d65510810"
      },
      "execution_count": 9,
      "outputs": [
        {
          "output_type": "stream",
          "name": "stdout",
          "text": [
            "Hello, Gokula\n",
            "Hello, Vithun\n",
            "Hello, Hari\n",
            "Hello, Dhevi\n"
          ]
        }
      ]
    },
    {
      "cell_type": "code",
      "source": [
        "# Unpacking the dictionary\n",
        "def show_info(**info):\n",
        "    for k,v in info.items():\n",
        "        print(f\"{k} : {v}\")\n",
        "\n",
        "data = {\"Code\":\"Python\",\n",
        "        \"School\":\"SCOPE\",\n",
        "        \"Course\":\"CSI4007\"\n",
        "       }\n",
        "show_info(**data)"
      ],
      "metadata": {
        "colab": {
          "base_uri": "https://localhost:8080/"
        },
        "id": "XWtccugmhasA",
        "outputId": "3442d2b0-3123-4f3a-e71e-48d22ab2d1c4"
      },
      "execution_count": 10,
      "outputs": [
        {
          "output_type": "stream",
          "name": "stdout",
          "text": [
            "Code : Python\n",
            "School : SCOPE\n",
            "Course : CSI4007\n"
          ]
        }
      ]
    },
    {
      "cell_type": "code",
      "source": [
        "#Create a Empty Dictionary and insert keys and values\n",
        "dict1 = dict()   # Empty dict"
      ],
      "metadata": {
        "id": "G8dJnbqShdJf"
      },
      "execution_count": 11,
      "outputs": []
    },
    {
      "cell_type": "code",
      "source": [
        "dict1[\"Name\"] = \"Gokula\"  # Inserting keys and values to dict\n",
        "dict1[\"School\"] = \"SCOPE\"\n"
      ],
      "metadata": {
        "id": "SQ_Yw5zehiEY"
      },
      "execution_count": 12,
      "outputs": []
    },
    {
      "cell_type": "code",
      "source": [
        "print(dict1) # Display dict"
      ],
      "metadata": {
        "colab": {
          "base_uri": "https://localhost:8080/"
        },
        "id": "xG0uyJ9ehlQY",
        "outputId": "6bc4a252-4075-4d51-ef68-8ddbb6c3531e"
      },
      "execution_count": 13,
      "outputs": [
        {
          "output_type": "stream",
          "name": "stdout",
          "text": [
            "{'Name': 'Gokula', 'School': 'SCOPE'}\n"
          ]
        }
      ]
    },
    {
      "cell_type": "code",
      "source": [
        "dict2 = {}     # Empty dict"
      ],
      "metadata": {
        "id": "aWIKfTZdhocr"
      },
      "execution_count": 14,
      "outputs": []
    },
    {
      "cell_type": "code",
      "source": [
        "dict2[\"Name\"] = \"Kaushik\"  # Inserting keys and values to dict\n",
        "dict2[\"School\"] = \"SCORE\""
      ],
      "metadata": {
        "id": "z-rVSi6mhqiH"
      },
      "execution_count": 16,
      "outputs": []
    },
    {
      "cell_type": "code",
      "source": [
        "print(dict2) # Display dict"
      ],
      "metadata": {
        "colab": {
          "base_uri": "https://localhost:8080/"
        },
        "id": "_09I3i9ThsfY",
        "outputId": "318fda37-38c9-4fc4-e08f-2b11e18c98d2"
      },
      "execution_count": 17,
      "outputs": [
        {
          "output_type": "stream",
          "name": "stdout",
          "text": [
            "{'Name': 'Kaushik', 'School': 'SCORE'}\n"
          ]
        }
      ]
    },
    {
      "cell_type": "code",
      "source": [],
      "metadata": {
        "id": "feGEZdUahwgH"
      },
      "execution_count": null,
      "outputs": []
    }
  ]
}