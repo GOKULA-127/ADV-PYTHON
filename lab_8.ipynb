{
 "cells": [
  {
   "cell_type": "code",
   "execution_count": 24,
   "id": "147d1abb-f962-4fa2-b1bf-a311b2b79134",
   "metadata": {},
   "outputs": [
    {
     "data": {
      "text/plain": [
       "<function __main__.<lambda>(x, y)>"
      ]
     },
     "execution_count": 24,
     "metadata": {},
     "output_type": "execute_result"
    }
   ],
   "source": [
    "def double(x):\n",
    "     return x*2\n",
    "def add(x,y):\n",
    "    return x+y\n",
    "def mx(x,y):\n",
    "    if x>y:\n",
    "        return x\n",
    "    else:\n",
    "        return y\n",
    "lambda x:x*2\n",
    "lambda x,y:x+y\n",
    "lambda x,y:x if x>y else y"
   ]
  },
  {
   "cell_type": "code",
   "execution_count": 1,
   "id": "5df5ddde-67eb-40b1-aed6-62bc27cf612b",
   "metadata": {},
   "outputs": [
    {
     "ename": "TypeError",
     "evalue": "'int' object is not iterable",
     "output_type": "error",
     "traceback": [
      "\u001b[0;31m---------------------------------------------------------------------------\u001b[0m",
      "\u001b[0;31mTypeError\u001b[0m                                 Traceback (most recent call last)",
      "Cell \u001b[0;32mIn[1], line 2\u001b[0m\n\u001b[1;32m      1\u001b[0m n\u001b[38;5;241m=\u001b[39m\u001b[38;5;241m456738\u001b[39m\n\u001b[0;32m----> 2\u001b[0m \u001b[38;5;28;01mfor\u001b[39;00m i \u001b[38;5;129;01min\u001b[39;00m n:\n\u001b[1;32m      3\u001b[0m     \u001b[38;5;28mprint\u001b[39m(i)\n",
      "\u001b[0;31mTypeError\u001b[0m: 'int' object is not iterable"
     ]
    }
   ],
   "source": [
    "n=456738\n",
    "for i in n:\n",
    "    print(i)"
   ]
  },
  {
   "cell_type": "code",
   "execution_count": 4,
   "id": "eda1b28a-2f12-4e21-8bdf-95bfccec0c8b",
   "metadata": {},
   "outputs": [
    {
     "name": "stdout",
     "output_type": "stream",
     "text": [
      "[4, 5, 6, 7, 8, 9]\n",
      "4\n",
      "5\n",
      "6\n",
      "7\n",
      "8\n",
      "9\n"
     ]
    }
   ],
   "source": [
    "c=456789\n",
    "digit=[int(d) for d in str(c)]\n",
    "print(digit)\n",
    "for digit in digit:\n",
    "    print(digit)"
   ]
  },
  {
   "cell_type": "code",
   "execution_count": 5,
   "id": "dd0a0275-88a1-4102-a6b5-2232e7d608a6",
   "metadata": {},
   "outputs": [
    {
     "name": "stdout",
     "output_type": "stream",
     "text": [
      "['__add__', '__class__', '__class_getitem__', '__contains__', '__delattr__', '__delitem__', '__dir__', '__doc__', '__eq__', '__format__', '__ge__', '__getattribute__', '__getitem__', '__getstate__', '__gt__', '__hash__', '__iadd__', '__imul__', '__init__', '__init_subclass__', '__iter__', '__le__', '__len__', '__lt__', '__mul__', '__ne__', '__new__', '__reduce__', '__reduce_ex__', '__repr__', '__reversed__', '__rmul__', '__setattr__', '__setitem__', '__sizeof__', '__str__', '__subclasshook__', 'append', 'clear', 'copy', 'count', 'extend', 'index', 'insert', 'pop', 'remove', 'reverse', 'sort']\n"
     ]
    }
   ],
   "source": [
    "a=[1,2,3]\n",
    "print(dir(a))"
   ]
  },
  {
   "cell_type": "code",
   "execution_count": 12,
   "id": "525347e9-b028-4466-8206-abe42ee04858",
   "metadata": {},
   "outputs": [
    {
     "name": "stdout",
     "output_type": "stream",
     "text": [
      "<list_iterator object at 0x75e0044a8f10>\n"
     ]
    }
   ],
   "source": [
    "names=['ema','tom','hinton']\n",
    "looper=names.__iter__()\n",
    "print(looper)"
   ]
  },
  {
   "cell_type": "code",
   "execution_count": 7,
   "id": "ba092eb7-80d0-460e-8440-1a10717900a1",
   "metadata": {},
   "outputs": [
    {
     "name": "stdout",
     "output_type": "stream",
     "text": [
      "['__add__', '__class__', '__class_getitem__', '__contains__', '__delattr__', '__delitem__', '__dir__', '__doc__', '__eq__', '__format__', '__ge__', '__getattribute__', '__getitem__', '__getstate__', '__gt__', '__hash__', '__iadd__', '__imul__', '__init__', '__init_subclass__', '__iter__', '__le__', '__len__', '__lt__', '__mul__', '__ne__', '__new__', '__reduce__', '__reduce_ex__', '__repr__', '__reversed__', '__rmul__', '__setattr__', '__setitem__', '__sizeof__', '__str__', '__subclasshook__', 'append', 'clear', 'copy', 'count', 'extend', 'index', 'insert', 'pop', 'remove', 'reverse', 'sort']\n"
     ]
    }
   ],
   "source": [
    "print(dir(names))"
   ]
  },
  {
   "cell_type": "code",
   "execution_count": 8,
   "id": "1b16be80-c486-4c0c-93e0-140a140cbf83",
   "metadata": {},
   "outputs": [
    {
     "name": "stdout",
     "output_type": "stream",
     "text": [
      "<class 'list'>\n"
     ]
    }
   ],
   "source": [
    "print(type(names))"
   ]
  },
  {
   "cell_type": "code",
   "execution_count": 13,
   "id": "856d9ce8-d060-4caa-b20b-6de38fdeefac",
   "metadata": {},
   "outputs": [
    {
     "name": "stdout",
     "output_type": "stream",
     "text": [
      "<class 'list_iterator'>\n"
     ]
    }
   ],
   "source": [
    "print(type(looper))"
   ]
  },
  {
   "cell_type": "code",
   "execution_count": 14,
   "id": "08e79a14-32f4-42a7-b7ab-f67439aabef1",
   "metadata": {},
   "outputs": [
    {
     "name": "stdout",
     "output_type": "stream",
     "text": [
      "ema\n"
     ]
    }
   ],
   "source": [
    "print(next(looper))"
   ]
  },
  {
   "cell_type": "code",
   "execution_count": 15,
   "id": "b93acb39-07a0-4e96-9c2c-632f2a989ef2",
   "metadata": {},
   "outputs": [
    {
     "name": "stdout",
     "output_type": "stream",
     "text": [
      "tom\n"
     ]
    }
   ],
   "source": [
    "print(next(looper))"
   ]
  },
  {
   "cell_type": "code",
   "execution_count": 16,
   "id": "0114e84a-a3ea-4c6e-b5f1-9fdcc9da1497",
   "metadata": {},
   "outputs": [
    {
     "name": "stdout",
     "output_type": "stream",
     "text": [
      "hinton\n"
     ]
    }
   ],
   "source": [
    "print(next(looper))"
   ]
  },
  {
   "cell_type": "code",
   "execution_count": 17,
   "id": "88f191ad-d79b-4af3-851b-c8d25e6576f7",
   "metadata": {},
   "outputs": [
    {
     "ename": "StopIteration",
     "evalue": "",
     "output_type": "error",
     "traceback": [
      "\u001b[0;31m---------------------------------------------------------------------------\u001b[0m",
      "\u001b[0;31mStopIteration\u001b[0m                             Traceback (most recent call last)",
      "Cell \u001b[0;32mIn[17], line 1\u001b[0m\n\u001b[0;32m----> 1\u001b[0m \u001b[38;5;28mprint\u001b[39m(\u001b[38;5;28mnext\u001b[39m(looper))\n",
      "\u001b[0;31mStopIteration\u001b[0m: "
     ]
    }
   ],
   "source": [
    "print(next(looper))"
   ]
  },
  {
   "cell_type": "code",
   "execution_count": 19,
   "id": "0e1bd7fd-53e5-4da6-ae91-43e149ca4351",
   "metadata": {},
   "outputs": [
    {
     "name": "stdout",
     "output_type": "stream",
     "text": [
      "ema\n",
      "tom\n",
      "hinton\n"
     ]
    }
   ],
   "source": [
    "looper=iter(names)\n",
    "while True:\n",
    "    try:\n",
    "        name=next(looper)\n",
    "        print(name)\n",
    "    except StopIteration:\n",
    "        break\n",
    "    "
   ]
  },
  {
   "cell_type": "code",
   "execution_count": 21,
   "id": "03b4d304-0815-42d1-b139-fbc0c2c4a543",
   "metadata": {},
   "outputs": [
    {
     "name": "stdout",
     "output_type": "stream",
     "text": [
      "<map object at 0x75dfedfd04c0>\n"
     ]
    }
   ],
   "source": [
    "def square(x):\n",
    "    return x*x\n",
    "num=[1,2,3,4,5]\n",
    "print(map(square,num))"
   ]
  },
  {
   "cell_type": "code",
   "execution_count": 22,
   "id": "c11bf19f-ef5a-4ce2-b49c-d619f9205b95",
   "metadata": {},
   "outputs": [
    {
     "name": "stdout",
     "output_type": "stream",
     "text": [
      "[1, 4, 9, 16, 25]\n"
     ]
    }
   ],
   "source": [
    "def square(x):\n",
    "    return x*x\n",
    "num=[1,2,3,4,5]\n",
    "print(list(map(square,num)))"
   ]
  },
  {
   "cell_type": "code",
   "execution_count": 29,
   "id": "2d32d679-f571-4311-b4e7-dca410fea9be",
   "metadata": {},
   "outputs": [
    {
     "name": "stdout",
     "output_type": "stream",
     "text": [
      "[1, 4, 9, 16, 25]\n"
     ]
    }
   ],
   "source": [
    "num=[1,2,3,4,5]\n",
    "print(list(map(lambda x: x*x, num)))"
   ]
  },
  {
   "cell_type": "code",
   "execution_count": 30,
   "id": "1b68055f-4582-4bf8-ba28-eb7bff9c3618",
   "metadata": {},
   "outputs": [
    {
     "name": "stdout",
     "output_type": "stream",
     "text": [
      "[4, 5]\n"
     ]
    }
   ],
   "source": [
    "print(list(filter(lambda x:x>3,num)))"
   ]
  },
  {
   "cell_type": "code",
   "execution_count": 40,
   "id": "c8395561-2664-427c-a84b-0ba330a83669",
   "metadata": {},
   "outputs": [
    {
     "name": "stdout",
     "output_type": "stream",
     "text": [
      "15\n"
     ]
    }
   ],
   "source": [
    "from functools import reduce\n",
    "print(reduce(lambda x,y:x+y,num))"
   ]
  },
  {
   "cell_type": "code",
   "execution_count": 35,
   "id": "df8595e5-39f2-41d5-90cf-512cbf012b4b",
   "metadata": {},
   "outputs": [
    {
     "name": "stdout",
     "output_type": "stream",
     "text": [
      "['ALICE', 'BOB']\n"
     ]
    }
   ],
   "source": [
    "def list(str):\n",
    "    return[name.upper() for name in str]\n",
    "str=['alice','bob']\n",
    "uppercase=list(str)\n",
    "print(uppercase)"
   ]
  },
  {
   "cell_type": "code",
   "execution_count": 45,
   "id": "4240ea06-5f5c-4006-81e3-72d1ffa58e6d",
   "metadata": {},
   "outputs": [
    {
     "name": "stdout",
     "output_type": "stream",
     "text": [
      "casting pearls before swine\n"
     ]
    }
   ],
   "source": [
    "st=['casting','pearls','before','swine']\n",
    "print(reduce(lambda x,y:x+' '+y, st))"
   ]
  },
  {
   "cell_type": "code",
   "execution_count": null,
   "id": "185a624c-a5e8-42ee-aa4b-879f42ec62cb",
   "metadata": {},
   "outputs": [],
   "source": []
  }
 ],
 "metadata": {
  "kernelspec": {
   "display_name": "Python 3 (ipykernel)",
   "language": "python",
   "name": "python3"
  },
  "language_info": {
   "codemirror_mode": {
    "name": "ipython",
    "version": 3
   },
   "file_extension": ".py",
   "mimetype": "text/x-python",
   "name": "python",
   "nbconvert_exporter": "python",
   "pygments_lexer": "ipython3",
   "version": "3.12.4"
  }
 },
 "nbformat": 4,
 "nbformat_minor": 5
}
